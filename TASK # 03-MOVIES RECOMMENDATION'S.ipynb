{
 "cells": [
  {
   "cell_type": "markdown",
   "id": "182b539d",
   "metadata": {},
   "source": [
    "# TASK # 03"
   ]
  },
  {
   "cell_type": "markdown",
   "id": "447dd73b",
   "metadata": {},
   "source": [
    "# -----------MOVIES RECOMMENDATION'S-------------"
   ]
  },
  {
   "cell_type": "markdown",
   "id": "9fd6b7de",
   "metadata": {},
   "source": [
    "# IMPORT LIBRARIES:"
   ]
  },
  {
   "cell_type": "code",
   "execution_count": 4,
   "id": "0db4f416",
   "metadata": {},
   "outputs": [],
   "source": [
    "import numpy as np\n",
    "import pandas as pd\n",
    "from sklearn.feature_extraction.text import TfidfVectorizer\n",
    "from sklearn.metrics.pairwise import linear_kernel"
   ]
  },
  {
   "cell_type": "markdown",
   "id": "ce5f846e",
   "metadata": {},
   "source": [
    "# DATASET"
   ]
  },
  {
   "cell_type": "code",
   "execution_count": 5,
   "id": "aea857a8",
   "metadata": {},
   "outputs": [],
   "source": [
    "movies = {\n",
    "    'title': ['The Shawshank Redemption', 'The Godfather', 'The Dark Knight', 'Forrest Gump', 'Inception', \n",
    "              'The Matrix', 'Avengers: Infinity War', 'Interstellar', 'Gladiator', 'The Lion King'],\n",
    "    'genre': ['Drama', 'Crime', 'Action', 'Drama', 'Sci-Fi', \n",
    "              'Sci-Fi', 'Action', 'Sci-Fi', 'Action', 'Animation'],\n",
    "    'director': ['Frank Darabont', 'Francis Ford Coppola', 'Christopher Nolan', 'Robert Zemeckis', 'Christopher Nolan',\n",
    "                 'The Wachowskis', 'Anthony and Joe Russo', 'Christopher Nolan', 'Ridley Scott', 'Roger Allers and Rob Minkoff']\n",
    "}"
   ]
  },
  {
   "cell_type": "code",
   "execution_count": 6,
   "id": "d86cac7e",
   "metadata": {},
   "outputs": [
    {
     "data": {
      "text/html": [
       "<div>\n",
       "<style scoped>\n",
       "    .dataframe tbody tr th:only-of-type {\n",
       "        vertical-align: middle;\n",
       "    }\n",
       "\n",
       "    .dataframe tbody tr th {\n",
       "        vertical-align: top;\n",
       "    }\n",
       "\n",
       "    .dataframe thead th {\n",
       "        text-align: right;\n",
       "    }\n",
       "</style>\n",
       "<table border=\"1\" class=\"dataframe\">\n",
       "  <thead>\n",
       "    <tr style=\"text-align: right;\">\n",
       "      <th></th>\n",
       "      <th>title</th>\n",
       "      <th>genre</th>\n",
       "      <th>director</th>\n",
       "    </tr>\n",
       "  </thead>\n",
       "  <tbody>\n",
       "    <tr>\n",
       "      <th>0</th>\n",
       "      <td>The Shawshank Redemption</td>\n",
       "      <td>Drama</td>\n",
       "      <td>Frank Darabont</td>\n",
       "    </tr>\n",
       "    <tr>\n",
       "      <th>1</th>\n",
       "      <td>The Godfather</td>\n",
       "      <td>Crime</td>\n",
       "      <td>Francis Ford Coppola</td>\n",
       "    </tr>\n",
       "    <tr>\n",
       "      <th>2</th>\n",
       "      <td>The Dark Knight</td>\n",
       "      <td>Action</td>\n",
       "      <td>Christopher Nolan</td>\n",
       "    </tr>\n",
       "    <tr>\n",
       "      <th>3</th>\n",
       "      <td>Forrest Gump</td>\n",
       "      <td>Drama</td>\n",
       "      <td>Robert Zemeckis</td>\n",
       "    </tr>\n",
       "    <tr>\n",
       "      <th>4</th>\n",
       "      <td>Inception</td>\n",
       "      <td>Sci-Fi</td>\n",
       "      <td>Christopher Nolan</td>\n",
       "    </tr>\n",
       "    <tr>\n",
       "      <th>5</th>\n",
       "      <td>The Matrix</td>\n",
       "      <td>Sci-Fi</td>\n",
       "      <td>The Wachowskis</td>\n",
       "    </tr>\n",
       "    <tr>\n",
       "      <th>6</th>\n",
       "      <td>Avengers: Infinity War</td>\n",
       "      <td>Action</td>\n",
       "      <td>Anthony and Joe Russo</td>\n",
       "    </tr>\n",
       "    <tr>\n",
       "      <th>7</th>\n",
       "      <td>Interstellar</td>\n",
       "      <td>Sci-Fi</td>\n",
       "      <td>Christopher Nolan</td>\n",
       "    </tr>\n",
       "    <tr>\n",
       "      <th>8</th>\n",
       "      <td>Gladiator</td>\n",
       "      <td>Action</td>\n",
       "      <td>Ridley Scott</td>\n",
       "    </tr>\n",
       "    <tr>\n",
       "      <th>9</th>\n",
       "      <td>The Lion King</td>\n",
       "      <td>Animation</td>\n",
       "      <td>Roger Allers and Rob Minkoff</td>\n",
       "    </tr>\n",
       "  </tbody>\n",
       "</table>\n",
       "</div>"
      ],
      "text/plain": [
       "                      title      genre                      director\n",
       "0  The Shawshank Redemption      Drama                Frank Darabont\n",
       "1             The Godfather      Crime          Francis Ford Coppola\n",
       "2           The Dark Knight     Action             Christopher Nolan\n",
       "3              Forrest Gump      Drama               Robert Zemeckis\n",
       "4                 Inception     Sci-Fi             Christopher Nolan\n",
       "5                The Matrix     Sci-Fi                The Wachowskis\n",
       "6    Avengers: Infinity War     Action         Anthony and Joe Russo\n",
       "7              Interstellar     Sci-Fi             Christopher Nolan\n",
       "8                 Gladiator     Action                  Ridley Scott\n",
       "9             The Lion King  Animation  Roger Allers and Rob Minkoff"
      ]
     },
     "execution_count": 6,
     "metadata": {},
     "output_type": "execute_result"
    }
   ],
   "source": [
    "df = pd.DataFrame(movies)\n",
    "df"
   ]
  },
  {
   "cell_type": "code",
   "execution_count": 9,
   "id": "f04c22f5",
   "metadata": {},
   "outputs": [
    {
     "name": "stdout",
     "output_type": "stream",
     "text": [
      "Recommended Movies for 'The Matrix':\n",
      "Inception - Genre: Sci-Fi, Director: Christopher Nolan\n",
      "Interstellar - Genre: Sci-Fi, Director: Christopher Nolan\n",
      "The Shawshank Redemption - Genre: Drama, Director: Frank Darabont\n",
      "The Godfather - Genre: Crime, Director: Francis Ford Coppola\n",
      "The Dark Knight - Genre: Action, Director: Christopher Nolan\n"
     ]
    }
   ],
   "source": [
    "movies = pd.DataFrame({\n",
    "    'title': ['The Shawshank Redemption', 'The Godfather', 'The Dark Knight', 'Forrest Gump', 'Inception', \n",
    "              'The Matrix', 'Avengers: Infinity War', 'Interstellar', 'Gladiator', 'The Lion King'],\n",
    "    'genre': ['Drama', 'Crime', 'Action', 'Drama', 'Sci-Fi', \n",
    "              'Sci-Fi', 'Action', 'Sci-Fi', 'Action', 'Animation'],\n",
    "    'director': ['Frank Darabont', 'Francis Ford Coppola', 'Christopher Nolan', 'Robert Zemeckis', 'Christopher Nolan',\n",
    "                 'The Wachowskis', 'Anthony and Joe Russo', 'Christopher Nolan', 'Ridley Scott', 'Roger Allers and Rob Minkoff']\n",
    "})\n",
    "\n",
    "movies['features'] = movies['genre'] + \" \" + movies['director']\n",
    "\n",
    "# Using TF-IDF Vectorizer to convert the combined features into numerical data\n",
    "tfidf = TfidfVectorizer(stop_words='english')\n",
    "tfidf_matrix = tfidf.fit_transform(movies['features'])\n",
    "\n",
    "cosine_sim = linear_kernel(tfidf_matrix, tfidf_matrix)\n",
    "\n",
    "# Function to recommend movies based on cosine similarity\n",
    "def recommend_movies(title, cosine_sim=cosine_sim):\n",
    "    # Get the index of the movie that matches the title\n",
    "    idx = movies.index[movies['title'] == title].tolist()[0]\n",
    "\n",
    "    # Get the pairwise similarity scores of all movies with that movie\n",
    "    sim_scores = list(enumerate(cosine_sim[idx]))\n",
    "\n",
    "    # Sort the movies based on the similarity scores\n",
    "    sim_scores = sorted(sim_scores, key=lambda x: x[1], reverse=True)\n",
    "\n",
    "    # Get the scores of the 5 most similar movies\n",
    "    sim_scores = sim_scores[1:6]\n",
    "\n",
    "    # Get the movie indices\n",
    "    movie_indices = [i[0] for i in sim_scores]\n",
    "\n",
    "    # Create a DataFrame with recommended movie details\n",
    "    recommended_movies_df = movies.iloc[movie_indices][['title', 'genre', 'director']]\n",
    "\n",
    "    # Return the top 5 most similar movies\n",
    "    return recommended_movies_df\n",
    "\n",
    "# Assuming the user likes 'The Matrix', let's recommend similar movies\n",
    "user_favorite_movie = 'The Matrix'\n",
    "recommended_movies = recommend_movies(user_favorite_movie)\n",
    "\n",
    "# Beautify the output\n",
    "print(f\"Recommended Movies for '{user_favorite_movie}':\")\n",
    "for idx, row in recommended_movies.iterrows():\n",
    "    print(f\"{row['title']} - Genre: {row['genre']}, Director: {row['director']}\")\n"
   ]
  },
  {
   "cell_type": "code",
   "execution_count": null,
   "id": "c7e265ab",
   "metadata": {},
   "outputs": [],
   "source": []
  }
 ],
 "metadata": {
  "kernelspec": {
   "display_name": "Python 3 (ipykernel)",
   "language": "python",
   "name": "python3"
  },
  "language_info": {
   "codemirror_mode": {
    "name": "ipython",
    "version": 3
   },
   "file_extension": ".py",
   "mimetype": "text/x-python",
   "name": "python",
   "nbconvert_exporter": "python",
   "pygments_lexer": "ipython3",
   "version": "3.11.5"
  }
 },
 "nbformat": 4,
 "nbformat_minor": 5
}
